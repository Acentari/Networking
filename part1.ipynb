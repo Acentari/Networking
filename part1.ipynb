{
 "cells": [
  {
   "cell_type": "markdown",
   "metadata": {},
   "source": [
    "# Υσχής μετατροπή απο watt σε decibel\n",
    "\n",
    "---\n",
    "> Εστω υσχης $ x $ watt \n",
    ">\n",
    "> Σε decibel $ 10log_{10}x $ decibel\n",
    "\n",
    "> Αντίστοιχα $ y $ decibel\n",
    ">\n",
    "> $ y = 10log_{10}x \\rightarrow x=10^{0.1y} $ watt\n",
    "\n",
    "## Παράδειγμα\n",
    "\n",
    "* 1000 watt : $ a = 10log_{10} 1000 = 10log_{10} 10^{3} = 30log_{10}10 = 30 $ decibel\n",
    "* 0.1 watt : $ 10log_{10}0.1 = 10log_{10}10^{-1} = -10log_{10}10 = -10 $ decibel\n",
    "* 1 watt: $ 10log_{10}1 = 10log_{10}10^0 = 0 $ db"
   ]
  },
  {
   "cell_type": "code",
   "execution_count": 10,
   "metadata": {},
   "outputs": [
    {
     "name": "stdout",
     "output_type": "stream",
     "text": [
      "30\n",
      "30\n"
     ]
    }
   ],
   "source": [
    "import math as m\n",
    "def decibel(watt):\n",
    "    return m.ceil(10 * m.log(watt,10))\n",
    "\n",
    "def watt(decibel):\n",
    "    return m.ceil(10 * m.log(decibel,10))\n",
    "\n",
    "print(decibel(1000))\n",
    "print(watt(1000))"
   ]
  },
  {
   "cell_type": "markdown",
   "metadata": {},
   "source": [
    "# To decibel αναφέρεται στο 1 watt\n",
    "> δηλαδή $ 10log_{10} \\frac{x(watt)}{1(watt)}\\\\ $\n",
    "\n",
    "Αν ως ισχύ αναφοράς χρησιμοποιήσουμε το 1 miliwatt τοτε η μέτριση γίνεται σε dbm (db over miliwatt)\n",
    "\n",
    "> dbm : $ 10log_{10} \\frac{x(mWatt)}{1(mWatt)} $\n",
    "---\n",
    "## Παράδειγμα\n",
    "\n",
    "### 0.01 Watt πόσα db είναi;\n",
    "\n",
    "> $ 10log_{10}0.01 = 10log_{10}10^{-2} = -2*10log_{10}10 = -20 $ db\n",
    "\n",
    "### Πόσα dbm;\n",
    "\n",
    "> $ 0.01 W = 10 mW $\n",
    "> $ 10log_{10} \\frac{10mW}{1mW} = 10log_{10}10 = 10 $ dbm\n",
    "\n",
    "### dbm σε mWatt\n",
    "\n",
    "##### $20 dbm \\rightarrow ?mwatt $\n",
    "> $ 10^{0.1*20} = 10^2 = 100 mW $\n",
    "\n",
    "##### $30dbm \\rightarrow 10^{0.1*30} = 1000mW = 1W = 0db$\n",
    "\n",
    "---\n",
    "\n",
    "$$ Y(dbm) = Y(db) + 30 $$"
   ]
  },
  {
   "cell_type": "markdown",
   "metadata": {},
   "source": [
    "### Πόση ισχύς εκπέμπει:\n",
    "\n",
    "* Κινητό τηλέφωνο\n",
    "* Bluetooth\n",
    "* Σταθμός βάσης κινητής τηλεφωνίας\n",
    "* access point\n",
    "* ευαισθησία λήψης κάρτας ασύρματου δικτύου\n",
    "\n",
    "$ 10log_{10}2 = 3db $\n",
    "\n",
    "`Κάθε διπλασιασμός αντιστοιχεί σε 3db`\n",
    "\n",
    "`Κάθε υποδιπλασιαμός αντιστοιχεί σε -3db`\n",
    "\n",
    "#### Π.χ\n",
    "\n",
    "8πλασιασμός = $ 2^3 \\ 10log_{10}2^3 \\ = \\ 3*10log_{10}2 = 9db $\n",
    "\n",
    "4πλασιασμός = $ 2^2 \\ 10log_{10}2^2 \\ = \\ 2*10log_{10}2 = 6db $\n",
    "\n",
    "---\n",
    "| | |\n",
    "|---|---|\n",
    "|Εύρος ζώνης φωνής| 4kHz|\n",
    "|Μουσική CD| 20kHz|\n",
    "|Κινούμενη εικόνα TV | 5MHz|\n",
    "\n",
    "`Για μετάδοση video είναι απαραίτητη η ύπαρξη ευριζωνικής υποδομής καθώς ο ρυθμός μετάδοσης είναι της τάξης των Mbps.`"
   ]
  }
 ],
 "metadata": {
  "kernelspec": {
   "display_name": "Python 3",
   "language": "python",
   "name": "python3"
  },
  "language_info": {
   "codemirror_mode": {
    "name": "ipython",
    "version": 3
   },
   "file_extension": ".py",
   "mimetype": "text/x-python",
   "name": "python",
   "nbconvert_exporter": "python",
   "pygments_lexer": "ipython3",
   "version": "3.8.5"
  }
 },
 "nbformat": 4,
 "nbformat_minor": 4
}
